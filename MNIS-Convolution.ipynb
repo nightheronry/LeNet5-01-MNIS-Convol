{
 "cells": [
  {
   "cell_type": "code",
   "execution_count": 1,
   "metadata": {
    "collapsed": true,
    "deletable": true,
    "editable": true
   },
   "outputs": [],
   "source": [
    "import os\n",
    "import struct\n",
    "import numpy as np\n",
    "import matplotlib.pyplot as plt "
   ]
  },
  {
   "cell_type": "code",
   "execution_count": 2,
   "metadata": {
    "collapsed": true,
    "deletable": true,
    "editable": true
   },
   "outputs": [],
   "source": [
    "# the following codes are derived from https://gist.github.com/akesling/5358964\n",
    "def ascii_show(image):\n",
    "    for y in image:\n",
    "        row = \"\"\n",
    "        for x in y:\n",
    "            row += '{:02x}'.format(x)\n",
    "        print(row)\n",
    "\n",
    "def read(dataset = \"training\", path = \".\"):\n",
    "    if dataset is \"training\":\n",
    "        fname_img = os.path.join(path, 'train-images-idx3-ubyte')\n",
    "        fname_lbl = os.path.join(path, 'train-labels-idx1-ubyte')\n",
    "    elif dataset is \"testing\":\n",
    "        fname_img = os.path.join(path, 't10k-images-idx3-ubyte')\n",
    "        fname_lbl = os.path.join(path, 't10k-labels-idx1-ubyte')\n",
    "    else:\n",
    "        raise ValueError\n",
    "\n",
    "    with open(fname_lbl, 'rb') as flbl:\n",
    "        magic, num = struct.unpack(\">II\", flbl.read(8))\n",
    "        lbl = np.fromfile(flbl, dtype=np.int8)\n",
    "\n",
    "    with open(fname_img, 'rb') as fimg:\n",
    "        magic, num, rows, cols = struct.unpack(\">IIII\", fimg.read(16))\n",
    "        img = np.fromfile(fimg, dtype=np.uint8).reshape(len(lbl), rows, cols)\n",
    "\n",
    "    return lbl, img"
   ]
  },
  {
   "cell_type": "code",
   "execution_count": 3,
   "metadata": {
    "collapsed": true,
    "deletable": true,
    "editable": true
   },
   "outputs": [],
   "source": [
    "lbl, img = read(dataset=\"training\", path=\"../data/\")"
   ]
  },
  {
   "cell_type": "code",
   "execution_count": 4,
   "metadata": {
    "collapsed": false,
    "deletable": true,
    "editable": true
   },
   "outputs": [],
   "source": [
    "def make_convoluted_images(imgs, num_imgs, pad_width, sobel_filter):\n",
    "    convoluted_images_list = []\n",
    "    \n",
    "    for img_idx in range(num_imgs):\n",
    "        image = imgs[img_idx]\n",
    "        padded_image = np.lib.pad(image, pad_width, mode='edge')\n",
    "        convoluted_image = np.zeros([28,28])\n",
    "        \n",
    "        size_filter = sobel_filter.shape[0]\n",
    "        \n",
    "        for i in range(image.shape[0]):\n",
    "            for j in range(image.shape[1]):\n",
    "                convoluted_image[i, j] = np.sum(np.multiply(padded_image[i:i+size_filter, j:j+size_filter], sobel_filter), axis=None)\n",
    "        \n",
    "        convoluted_image = convoluted_image\n",
    "        convoluted_images_list.append(convoluted_image)\n",
    "    \n",
    "    return convoluted_images_list\n",
    "\n",
    "def plot_images(image_list):\n",
    "    L = len(image_list)\n",
    "    \n",
    "    for i in range(L):\n",
    "        plt.subplot(1, L, i + 1)\n",
    "        plt.imshow(image_list[i], cmap=plt.cm.gray)\n",
    "        plt.axis('off')\n",
    "    plt.show()"
   ]
  },
  {
   "cell_type": "code",
   "execution_count": 5,
   "metadata": {
    "collapsed": true,
    "deletable": true,
    "editable": true
   },
   "outputs": [],
   "source": [
    "Gx = np.array([[-1,0,1],[-2,0,2],[-1,0,1]])\n",
    "Gy = np.array([[1,2,1],[0,0,0],[-1,-2,-1]])"
   ]
  },
  {
   "cell_type": "markdown",
   "metadata": {},
   "source": [
    "## 1.  Use Gx and Gy to convolute the first five images in training set and plot the results"
   ]
  },
  {
   "cell_type": "code",
   "execution_count": 6,
   "metadata": {
    "collapsed": false,
    "deletable": true,
    "editable": true
   },
   "outputs": [],
   "source": [
    "convoluted_images_Gx = make_convoluted_images(img, 5, (1, 1), Gx)\n",
    "convoluted_images_Gy = make_convoluted_images(img, 5, (1, 1), Gy)"
   ]
  },
  {
   "cell_type": "code",
   "execution_count": 7,
   "metadata": {
    "collapsed": false,
    "deletable": true,
    "editable": true
   },
   "outputs": [
    {
     "data": {
      "image/png": "[encoded data removed]",
      "text/plain": [
       "<matplotlib.figure.Figure at 0x11183ae10>"
      ]
     },
     "metadata": {},
     "output_type": "display_data"
    }
   ],
   "source": [
    "plot_images(convoluted_images_Gx)"
   ]
  },
  {
   "cell_type": "code",
   "execution_count": 8,
   "metadata": {
    "collapsed": false,
    "deletable": true,
    "editable": true
   },
   "outputs": [
    {
     "data": {
      "image/png": "[encoded data removed]",
      "text/plain": [
       "<matplotlib.figure.Figure at 0x1146aff60>"
      ]
     },
     "metadata": {},
     "output_type": "display_data"
    }
   ],
   "source": [
    "plot_images(convoluted_images_Gy)"
   ]
  },
  {
   "cell_type": "markdown",
   "metadata": {},
   "source": [
    "## 2. Use sobel filters with different sizes (5x5, 7x7, and 9x9) to convolute the first image in training set and plot the results"
   ]
  },
  {
   "cell_type": "markdown",
   "metadata": {},
   "source": [
    "The following function aims to make n-by-n sobel filters, and the results (when n = 3, 5, 7, 9) can be seen from the first answer [here](http://stackoverflow.com/questions/9567882/sobel-filter-kernel-of-large-size)."
   ]
  },
  {
   "cell_type": "code",
   "execution_count": 9,
   "metadata": {
    "collapsed": true,
    "deletable": true,
    "editable": true
   },
   "outputs": [],
   "source": [
    "def make_sobel_filter(n):\n",
    "    filter_ = np.zeros([n, n])\n",
    "    \n",
    "    first_col = np.array([range(n // 2, n), range(n-2, n // 2 - 1, -1)])\n",
    "    first_col = np.concatenate(first_col, axis=0)\n",
    "    \n",
    "    for column in range(n//2):\n",
    "        filter_[0:n, column] = first_col\n",
    "        filter_[0:n, n - column -1] = -first_col\n",
    "        first_col -= 1\n",
    "    \n",
    "    return filter_"
   ]
  },
  {
   "cell_type": "code",
   "execution_count": 10,
   "metadata": {
    "collapsed": false,
    "deletable": true,
    "editable": true
   },
   "outputs": [
    {
     "name": "stdout",
     "output_type": "stream",
     "text": [
      "00000000000000000000000000000000000000000000000000000000\n",
      "00000000000000000000000000000000000000000000000000000000\n",
      "00000000000000000000000000000000000000000000000000000000\n",
      "00000000000000000000fad9cacd0aa850bf1e1b8be5ccf56dfe0000\n",
      "000000000000c49a208c69c60593e9c67544b5a754419e92a9fd0000\n",
      "00000000009e9970d80b468cdfbc1be8c06e4bb985004fd470bc0000\n",
      "000000000049946ea85ef47c6fec96b3e2c289c6dad962f2247d0000\n",
      "0000000000060665073b0dc2bc2d22b882b11e387f6617a6d2be0000\n",
      "00000000002506b253966eb7fdb4abb0701208ebcc5e129d3b800000\n",
      "000000000068fee1ce29113101e6b2be808740cc86cfdc974e000000\n",
      "0000000000dc487f74b9c739c8245126d0b994b00000000000000000\n",
      "000000000000604e6fce0bc969e43d2ab7d7c9360000000000000000\n",
      "00000000000000e4f0feeb4f3216d7193396b70a3200000000000000\n",
      "000000000000000000c99ff4f0f0b8cab328742b9236000000000000\n",
      "000000000000000000ea10ebc3c6134fb40d554211c7000000000000\n",
      "00000000000000000000ba08278c17c5c3ec71ec54cf800000000000\n",
      "00000000000000000000005eec1c5b9bb9383b6b0148c40000000000\n",
      "00000000000000000000b2b1be95d7b1b0a7317ad2e8060000000000\n",
      "0000000000000000d0045f371ca5402ed7a3e10af545c80000000000\n",
      "000000000000d265ccc2621c117d735789f5f1797c7b860000000000\n",
      "00000000dc985a4975b755a6b4096201280263f45bc2040000000000\n",
      "000092715a36e06d032401d69be660a18d0c14f3946c000000000000\n",
      "00004b0cc362c2a94228bd00764cf9ce6cc1bae69c00000000000000\n",
      "00008ca44d05fcfb9a9978dd86332fb7c0f8a4040000000000000000\n",
      "00003b02f3f87b67cdf9ebe29dbb59f7a91200000000000000000000\n",
      "0000fa6a9f7a3ff7217963f98f9d1516000000000000000000000000\n",
      "0000f07e09916815682a1f9218200000000000000000000000000000\n",
      "00000000000000000000000000000000000000000000000000000000\n"
     ]
    }
   ],
   "source": [
    "img32x32_list = make_convoluted_images(img, 1, (2, 2), make_sobel_filter(5))\n",
    "img32x32 = img32x32_list[0].astype(\"uint8\")\n",
    "ascii_show(img32x32)"
   ]
  },
  {
   "cell_type": "code",
   "execution_count": 11,
   "metadata": {
    "collapsed": false,
    "deletable": true,
    "editable": true
   },
   "outputs": [
    {
     "data": {
      "image/png": "[encoded data removed]",
      "text/plain": [
       "<matplotlib.figure.Figure at 0x114b19400>"
      ]
     },
     "metadata": {},
     "output_type": "display_data"
    }
   ],
   "source": [
    "plot_images(img32x32_list)"
   ]
  },
  {
   "cell_type": "code",
   "execution_count": 12,
   "metadata": {
    "collapsed": false,
    "deletable": true,
    "editable": true
   },
   "outputs": [
    {
     "name": "stdout",
     "output_type": "stream",
     "text": [
      "00000000000000000000000000000000000000000000000000000000\n",
      "00000000000000000000000000000000000000000000000000000000\n",
      "000000000000000000f7c4a3945372a4380357b0a6f21ae76ae37d00\n",
      "0000000000a6588052822ae132bea07148f42271afa00a217b22bc00\n",
      "000000006d5c1201795d948921caed90dd8b25c6970677fcdb107b00\n",
      "00000000066af5adbb0fa08e53adad4bc4d6f4732660eefba4b03a00\n",
      "00000000c35039878ba0ac92f027ef5904c59ec4e9c8e5c28364fb00\n",
      "0000000080125ff41a0469b117022753d3c465d34e22262578123c00\n",
      "000000009f12d941c99fcebbea52832a92ddfa9a1dc8af26af727d00\n",
      "00000000e2ec273837896f097bab3fe1f30e55fa40755edcf165c000\n",
      "0000000025a2b3bd55a0af6e4c4d6acf4648204740e6d28df6750000\n",
      "00000000ca0b9bd70e81e9274c60204e7e8be4f2d64b000000000000\n",
      "000000000010540917b9c7ad537372fddacea6e7385c510000000000\n",
      "000000000000d6e1bf8b7375e6575038db35f8c852939d0000000000\n",
      "0000000000000000332bd64e24a9f359be0a237d213edec000000000\n",
      "0000000000000000df24c04d6a21f07e3e56ca39a15b5e0600000000\n",
      "00000000000000000022990e6aa87ff927ebbe556fa72a4800000000\n",
      "00000000000000b87ad125a0c0215088fa156dccd6c3148a00000000\n",
      "0000000000bb0c860d949362709e086072fa5de081a58c4c00000000\n",
      "000000cadbab5b8650c762049909219bdda4b8f99def2c0a00000000\n",
      "005b8e83b760ab6e6a99c8628b8c56d00e1e0cfba81c3bc800000000\n",
      "008ca43381218e8472978060ddb6701141c945e83f27490600000000\n",
      "00cd3cda42b57d784f1ea61d2742741887921373b992220000000000\n",
      "000ed4a57d7972f2a0b18f24b832f994683cf621ffea000000000000\n",
      "00bd32face878f00b32f5f560ddc383bfa2f1af70600000000000000\n",
      "007c9a530d4fed6c579d5c9b103a70021e021b000000000000000000\n",
      "003b02d0b4332cb5fd842d40a2a431a5210000000000000000000000\n",
      "0068f9871215d3212f21160eadac3000000000000000000000000000\n"
     ]
    }
   ],
   "source": [
    "img34x34_list = make_convoluted_images(img, 1, (3, 3), make_sobel_filter(7))\n",
    "img34x34 = img34x34_list[0].astype(\"uint8\")\n",
    "ascii_show(img34x34)"
   ]
  },
  {
   "cell_type": "code",
   "execution_count": 13,
   "metadata": {
    "collapsed": false,
    "deletable": true,
    "editable": true
   },
   "outputs": [
    {
     "data": {
      "image/png": "[encoded data removed]",
      "text/plain": [
       "<matplotlib.figure.Figure at 0x11183acf8>"
      ]
     },
     "metadata": {},
     "output_type": "display_data"
    }
   ],
   "source": [
    "plot_images(img34x34_list)"
   ]
  },
  {
   "cell_type": "code",
   "execution_count": 14,
   "metadata": {
    "collapsed": false,
    "deletable": true,
    "editable": true
   },
   "outputs": [
    {
     "name": "stdout",
     "output_type": "stream",
     "text": [
      "00000000000000000000000000000000000000000000000000000000\n",
      "0000000000000000f4af7c5b9c33b63cac4fc3fc9e12d64f02df59fc\n",
      "000000008816e0189b34dc9340b229a7cd7f9144193cf953ade59b7b\n",
      "0000003c1fb4480b210c43fc9665c446184841dd70136a3cf8a4b03a\n",
      "000000c340addc2cc5be2b96ec19e674a86a53af53b1ce53b66d50f9\n",
      "00000080d6051c7efa0c0fcd290a39d658d3cc35e9e4326a7436f0b8\n",
      "0000003d5c99f7b2bf4e158933323d77ea9b11731647b815fc15a479\n",
      "000000fa1edb310ca72ffd145d01d829cf6332e51fa2c604a00a52ba\n",
      "000000191e559da509357e8d29cfb68eca3d8715985362ede241b2fb\n",
      "0000005cf8a3d703f39a9285342cd06d01c77fcff426fed62478123c\n",
      "0000009f72c9bf0951d4c412968b847453ff61e8c75817267f458f00\n",
      "000000e246b3450f7f7973d149cddfd9ffbc394eddcc6c413e559c00\n",
      "000000b8ceb78a3155015e45df27f6c0a1a4e311870b157300000000\n",
      "00000000c05aa384fa5f35506fe65f7c0ed4f5a3a7adf6ed00000000\n",
      "0000000000c8d28071608949c95f5afe14910ef394f0133e48000000\n",
      "000000000000009d1ba0aed5e2cc8d5069010ad25a0971f68a000000\n",
      "000000000000a0c47b8eff08c7c10866bafc7cfaca334b56cc000000\n",
      "00000000a4b3405852756feba738188a74e2c4ab8b06cb400e000000\n",
      "0000b81efc6daef52c8c444d282b77d1d31cdc653172dfb8d0000000\n",
      "24abac38f2ef20a11087ad20bd6f259317a142008cb50c8e8e000000\n",
      "cd3cda4c7d580ce72623326ec3ee658e9c788c86978745a74c000000\n",
      "0ed4814e7bfb0ef31fa9d0cf4aa49c1eb4da9773a06e1efb0a000000\n",
      "4f6c2850a7506c553a99a40ef928a412ee9de18131d0f3d008000000\n",
      "9004f3cc03cfca37c3cdf261937913838b6eb63b847f90d800000000\n",
      "3f6248cc6f924a6523fddcaf858763675e00bb298818380000000000\n",
      "fecaa1ca71efc0f3b21d6c41266c0748fd349e3c4a08000000000000\n",
      "bd32fac8b840f0540da4bc0265496d1aab455b240000000000000000\n",
      "7c9a89eb9c9ca4956df9a625ba3bb9c5352c00000000000000000000\n"
     ]
    }
   ],
   "source": [
    "img36x36_list = make_convoluted_images(img, 1, (4, 4), make_sobel_filter(9))\n",
    "img36x36 = img36x36_list[0].astype(\"uint8\")\n",
    "ascii_show(img36x36)"
   ]
  },
  {
   "cell_type": "code",
   "execution_count": 15,
   "metadata": {
    "collapsed": false,
    "deletable": true,
    "editable": true
   },
   "outputs": [
    {
     "data": {
      "image/png": "[encoded data removed]",
      "text/plain": [
       "<matplotlib.figure.Figure at 0x114cb9208>"
      ]
     },
     "metadata": {},
     "output_type": "display_data"
    }
   ],
   "source": [
    "plot_images(img36x36_list)"
   ]
  }
 ,
 {
   "cell_type": "markdown",
   "metadata": {
    "collapsed": true
   },
 "source": [
    "## 2.  The edge detection using Gx"
   ]
  },
  {
   "cell_type": "markdown",
   "metadata": {},
   "source": [
    "#### Gx = np.array([[-1,0,1],[-2,0,2],[-1,0,1]])\n",
    "#### Since Gx[:][1] are all 0 and Gx[:][0] and Gx[:][2] are inverse valuse each other, and then make the adege of images more obvious."
   ]
  }],
 "metadata": {
  "kernelspec": {
   "display_name": "Python 3",
   "language": "python",
   "name": "python3"
  },
  "language_info": {
   "codemirror_mode": {
    "name": "ipython",
    "version": 3
   },
   "file_extension": ".py",
   "mimetype": "text/x-python",
   "name": "python",
   "nbconvert_exporter": "python",
   "pygments_lexer": "ipython3",
   "version": "3.6.0"
  }
 },
 "nbformat": 4,
 "nbformat_minor": 2
}
